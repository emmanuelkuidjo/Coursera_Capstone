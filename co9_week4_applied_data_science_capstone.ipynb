{
    "cells": [
        {
            "cell_type": "markdown",
            "metadata": {
                "collapsed": true
            },
            "source": "# Applied Data Science Capstone\n\n## You are a visiting Paris, where would you charge your electrical vehicule in order to enjoy the nearby amenities in the meantime ?"
        },
        {
            "cell_type": "markdown",
            "metadata": {},
            "source": "## Introduction\n\nThe number of elctrical vehicles in usage is growing in most developped countries in the world in general and in France in particular. This tendancy is supported by increasingly concerns about climate change and thanks to the support of environmental friendly policies. Some cities plan to ban traditional vehicle in the mid-term. \n\nOne key question when people buy an electrical vehicle is the availability of charging stations. Paris has several charging stations for electrical vehicles. \n\nNow suppose you are a tourist in Paris driving an electrical vechicle. At some time, you need to charge the battery of your vehicle. You want to find a station where you can charge your vehicle and continue visiting the city in the meantime. You seek a station around which several amenities are available. \n\nSo the question is where would you charge your electrical vehicule in order to enjoy the nearby amenities in the meantime ?\n\nTo solve this problem, we will analyze all charging stations in Paris. Then, we will group them into 3 clusters according to ten categories which are most relevant for tourists. "
        },
        {
            "cell_type": "markdown",
            "metadata": {},
            "source": "### Data\n\nWe will use two datasets from Paris open data website (https://opendata.paris.fr/page/home/). The first dataset will contain all boroughs in Paris and their latitude and longitude. The second data set will contain several information about the charging stations such as their name, latitude, longitude. The two datasets are available as csv files. \n\nFrom the first file \"arrondissements.csv\", we will keep four columns correponding to the postal code, the name, the latitude and the longitude of each borough in Paris. \n\nFrom the second file \"prises_electriques_vehicules_tps_reel.csv\", we will keep six columns corresponding to the postal code, the name, the type of the plug, information about availability of a cable, the latitude and the longitude of a given charging station. \n\nWe will also use FOURSQUARE API in order to get the venues that are around each charging station using its coordinates. "
        },
        {
            "cell_type": "code",
            "execution_count": null,
            "metadata": {},
            "outputs": [],
            "source": ""
        }
    ],
    "metadata": {
        "kernelspec": {
            "display_name": "Python 3.6",
            "language": "python",
            "name": "python3"
        },
        "language_info": {
            "codemirror_mode": {
                "name": "ipython",
                "version": 3
            },
            "file_extension": ".py",
            "mimetype": "text/x-python",
            "name": "python",
            "nbconvert_exporter": "python",
            "pygments_lexer": "ipython3",
            "version": "3.6.8"
        }
    },
    "nbformat": 4,
    "nbformat_minor": 1
}